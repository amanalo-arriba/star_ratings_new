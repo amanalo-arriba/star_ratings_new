{
 "cells": [
  {
   "cell_type": "markdown",
   "metadata": {},
   "source": [
    "## Sub368 File Pre-processing"
   ]
  },
  {
   "cell_type": "code",
   "execution_count": 15,
   "metadata": {},
   "outputs": [],
   "source": [
    "import datetime as dt\n",
    "import re\n",
    "import json\n",
    "import pandas as pd \n",
    "import matplotlib.pyplot as plt\n",
    "import numpy as np\n",
    "from sklearn import preprocessing\n",
    "from sklearn.model_selection import train_test_split\n",
    "from sklearn import linear_model\n",
    "from sklearn.metrics import mean_squared_error, r2_score, f1_score\n",
    "from datetime import date, timedelta\n",
    "from datetime import datetime\n",
    "import warnings\n",
    "import math\n",
    "import seaborn as sn\n",
    "import matplotlib.pyplot as plt\n",
    "warnings.filterwarnings('ignore')"
   ]
  },
  {
   "cell_type": "markdown",
   "metadata": {},
   "source": [
    "Reading in the Sub368 file"
   ]
  },
  {
   "cell_type": "code",
   "execution_count": 16,
   "metadata": {},
   "outputs": [],
   "source": [
    "df_sub = pd.read_csv(\"C:/Users/AManalo/star_ratings_new/Sub368_Data_Sep2022.csv\")\n",
    "df_sub = df_sub[df_sub['EOM_SEQ'] == 1]\n",
    "df_sub = df_sub[df_sub['SUMMARY_LINE_TYPE'] == 'OUTLET']\n",
    "df_sub = df_sub[[\"CONTRACT_ID\", \"SITE_CODE\", \"SPECIALTY_CD\", \"SITE_NAME\", \"PERFORMANCE_MEASURES\", \"ALL_ORG_NAT_AVG\"]]"
   ]
  },
  {
   "cell_type": "code",
   "execution_count": null,
   "metadata": {},
   "outputs": [],
   "source": []
  },
  {
   "cell_type": "markdown",
   "metadata": {},
   "source": [
    "Making new columns for each performance measure, that stores the ALL_ORG_NAT_AVG values for that performance measure and contract"
   ]
  },
  {
   "cell_type": "code",
   "execution_count": 17,
   "metadata": {},
   "outputs": [],
   "source": [
    "df_sub['52_full_avg'] = 0\n",
    "df_sub['52_full_avg'] = np.where(df_sub['PERFORMANCE_MEASURES'] == '52 Week Full Outcomes', df_sub['ALL_ORG_NAT_AVG'], df_sub['52_full_avg'])\n",
    "df_sub['52_path_avg'] = 0\n",
    "df_sub['52_path_avg'] =  np.where(df_sub['PERFORMANCE_MEASURES'] == '52 Week Pathway Outcomes', df_sub['ALL_ORG_NAT_AVG'], df_sub['52_path_avg'])\n",
    "df_sub['26_wrkast_avg'] = 0 \n",
    "df_sub['26_wrkast_avg'] = np.where(df_sub['PERFORMANCE_MEASURES'] == '26 Week Bonus Outcomes/Work Assist', df_sub['ALL_ORG_NAT_AVG'], df_sub['26_wrkast_avg'])\n",
    "df_sub['26_full_avg'] = 0\n",
    "df_sub['26_full_avg'] = np.where(df_sub['PERFORMANCE_MEASURES'] == '26 Week Full Outcomes', df_sub['ALL_ORG_NAT_AVG'], df_sub['26_full_avg'])\n",
    "df_sub['26_path_avg'] = 0\n",
    "df_sub['26_path_avg'] = np.where(df_sub['PERFORMANCE_MEASURES'] == '26 Week Pathway Outcomes', df_sub['ALL_ORG_NAT_AVG'], df_sub['26_path_avg'])\n",
    "df_sub['13_full_avg'] = 0\n",
    "df_sub['13_full_avg'] = np.where(df_sub['PERFORMANCE_MEASURES'] == '13 Week Full Outcomes', df_sub['ALL_ORG_NAT_AVG'], df_sub['13_full_avg'])"
   ]
  },
  {
   "cell_type": "code",
   "execution_count": 19,
   "metadata": {},
   "outputs": [],
   "source": [
    "df_sub.to_csv('C:/Users/AManalo/star_ratings_new/df_sub.csv')"
   ]
  }
 ],
 "metadata": {
  "kernelspec": {
   "display_name": "Python 3.10.11 64-bit (microsoft store)",
   "language": "python",
   "name": "python3"
  },
  "language_info": {
   "codemirror_mode": {
    "name": "ipython",
    "version": 3
   },
   "file_extension": ".py",
   "mimetype": "text/x-python",
   "name": "python",
   "nbconvert_exporter": "python",
   "pygments_lexer": "ipython3",
   "version": "3.10.11"
  },
  "orig_nbformat": 4,
  "vscode": {
   "interpreter": {
    "hash": "0536884df65f5e39992ad2e5a4490020c7eea9ac64ea16b2fd494381cba4ac7e"
   }
  }
 },
 "nbformat": 4,
 "nbformat_minor": 2
}
