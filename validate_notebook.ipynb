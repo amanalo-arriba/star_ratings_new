{
 "cells": [
  {
   "cell_type": "code",
   "execution_count": null,
   "metadata": {},
   "outputs": [],
   "source": []
  }
 ],
 "metadata": {
  "kernelspec": {
   "display_name": "Python 3.10.9 64-bit (microsoft store)",
   "language": "python",
   "name": "python3"
  },
  "language_info": {
   "name": "python",
   "version": "3.10.10"
  },
  "orig_nbformat": 4,
  "vscode": {
   "interpreter": {
    "hash": "0536884df65f5e39992ad2e5a4490020c7eea9ac64ea16b2fd494381cba4ac7e"
   }
  }
 },
 "nbformat": 4,
 "nbformat_minor": 2
}
