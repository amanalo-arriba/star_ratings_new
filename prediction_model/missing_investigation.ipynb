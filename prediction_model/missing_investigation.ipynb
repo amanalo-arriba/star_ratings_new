{
 "cells": [
  {
   "cell_type": "code",
   "execution_count": 1,
   "metadata": {},
   "outputs": [],
   "source": [
    "#Packages:\n",
    "import datetime as dt\n",
    "import re\n",
    "import json\n",
    "import pandas as pd \n",
    "import matplotlib.pyplot as plt\n",
    "import numpy as np\n",
    "from sklearn import preprocessing\n",
    "from sklearn.model_selection import train_test_split\n",
    "from sklearn import linear_model\n",
    "from sklearn.metrics import mean_squared_error, r2_score, f1_score\n",
    "from datetime import date, timedelta\n",
    "from datetime import datetime\n",
    "import warnings\n",
    "import math\n",
    "import seaborn as sn\n",
    "import matplotlib.pyplot as plt\n",
    "warnings.filterwarnings('ignore')\n"
   ]
  },
  {
   "cell_type": "code",
   "execution_count": 2,
   "metadata": {},
   "outputs": [],
   "source": [
    "df_apv = pd.read_csv('C:/Users/AManalo/OneDrive - Arriba Group/Desktop/Star Ratings - AimBig/apv_complete_data.csv')\n",
    "df_vars = pd.read_csv('C:/Users/AManalo/OneDrive - Arriba Group/Desktop/Star Ratings - AimBig/Stat Regression/ap_stat_variables.csv')"
   ]
  },
  {
   "cell_type": "markdown",
   "metadata": {},
   "source": [
    "### Missing Data in apv_stream_participants: \n",
    "- Includes job seekers at all of the 100% contracts"
   ]
  },
  {
   "cell_type": "code",
   "execution_count": 3,
   "metadata": {},
   "outputs": [
    {
     "name": "stdout",
     "output_type": "stream",
     "text": [
      "                                  Missing Proportion\n",
      "COMMENCEMENT_DATE                              18.96\n",
      "Program_Type_Code                               0.00\n",
      "jr_jobseeker_id                                 0.00\n",
      "Job_Seeker_ID                                   0.00\n",
      "plac_jobseeker_ID                               0.00\n",
      "placement_type                                  0.00\n",
      "Program                                         0.00\n",
      "Contract_ID                                     0.01\n",
      "Site_Name                                       0.00\n",
      "ESA_Code                                        0.00\n",
      "specialist_site_type_code                      50.76\n",
      "Referral_Date                                   0.00\n",
      "REFERRAL_PHASE_CODE                             0.27\n",
      "PLACEMENT_STATUS_CODE                           0.00\n",
      "Phase_changed                                   0.27\n",
      "Status_changed                                  0.00\n",
      "Phase_commencement_date                        14.95\n",
      "Time_In_Program_Weeks                           0.01\n",
      "Period_of_Service_Weeks                        52.24\n",
      "Disability_Type                                50.76\n",
      "moderate_intellectual_disability                0.00\n",
      "indigenous                                      0.01\n",
      "volunteer                                       0.00\n",
      "jsci_status                                     1.03\n",
      "employment_benchmark                           50.76\n",
      "esat_jca_assessment_date                        0.12\n",
      "Exit_Date                                      22.38\n",
      "SUSPENSION_FROM_DATE                           27.38\n",
      "SUSPENSION_ACTUAL_END_DATE                     28.56\n",
      "CLAIM_AVAILABLE_DATE                           83.19\n",
      "Claim_Rate_Type                                69.14\n",
      "Claim_Status                                   69.14\n",
      "Claim_ID                                        0.00\n",
      "Claim_Type                                      0.00\n",
      "OUTCOME_TYPE                                   70.37\n",
      "CLAIM_START_DATE                               69.14\n",
      "CLAIM_END_DATE                                 69.14\n",
      "overridden_outcome_started_on                  97.54\n",
      "pps_start_date                                 20.95\n"
     ]
    }
   ],
   "source": [
    "# Calculate missing proportion for each column relative to other columns\n",
    "missing_proportion = df_apv.isna().sum() / len(df_apv) * 100\n",
    "\n",
    "# Create a new DataFrame with the missing proportion\n",
    "missing_df = pd.DataFrame({'Missing Proportion': missing_proportion.round(2)})\n",
    "\n",
    "# Display the new DataFrame\n",
    "print(missing_df)"
   ]
  },
  {
   "cell_type": "code",
   "execution_count": 4,
   "metadata": {},
   "outputs": [],
   "source": [
    "df_vars = df_vars.rename(columns={'ess_identifier' : 'Job_Seeker_ID'})\n",
    "df_vars['Job_Seeker_ID'] = df_vars['Job_Seeker_ID'].astype('str')\n",
    "\n",
    "df_apv['Job_Seeker_ID'] = df_apv['Job_Seeker_ID'].astype('str')\n"
   ]
  },
  {
   "cell_type": "code",
   "execution_count": 6,
   "metadata": {},
   "outputs": [
    {
     "data": {
      "text/plain": [
       "Index(['COMMENCEMENT_DATE', 'Program_Type_Code', 'jr_jobseeker_id',\n",
       "       'Job_Seeker_ID', 'plac_jobseeker_ID', 'placement_type', 'Program',\n",
       "       'Contract_ID', 'Site_Name', 'ESA_Code', 'specialist_site_type_code',\n",
       "       'Referral_Date', 'REFERRAL_PHASE_CODE', 'PLACEMENT_STATUS_CODE',\n",
       "       'Phase_changed', 'Status_changed', 'Phase_commencement_date',\n",
       "       'Time_In_Program_Weeks', 'Period_of_Service_Weeks', 'Disability_Type',\n",
       "       'moderate_intellectual_disability', 'indigenous', 'volunteer',\n",
       "       'jsci_status', 'employment_benchmark', 'esat_jca_assessment_date',\n",
       "       'Exit_Date', 'SUSPENSION_FROM_DATE', 'SUSPENSION_ACTUAL_END_DATE',\n",
       "       'CLAIM_AVAILABLE_DATE', 'Claim_Rate_Type', 'Claim_Status', 'Claim_ID',\n",
       "       'Claim_Type', 'OUTCOME_TYPE', 'CLAIM_START_DATE', 'CLAIM_END_DATE',\n",
       "       'overridden_outcome_started_on', 'pps_start_date'],\n",
       "      dtype='object')"
      ]
     },
     "execution_count": 6,
     "metadata": {},
     "output_type": "execute_result"
    }
   ],
   "source": [
    "df_apv.columns"
   ]
  },
  {
   "cell_type": "code",
   "execution_count": 7,
   "metadata": {},
   "outputs": [],
   "source": [
    "part_vars = df_vars.columns.values"
   ]
  },
  {
   "cell_type": "code",
   "execution_count": 8,
   "metadata": {},
   "outputs": [],
   "source": [
    "df_apv = df_apv[[\"Job_Seeker_ID\"]]"
   ]
  },
  {
   "cell_type": "code",
   "execution_count": 9,
   "metadata": {},
   "outputs": [],
   "source": [
    "df_merge = df_apv.merge(df_vars, on=['Job_Seeker_ID'])"
   ]
  },
  {
   "cell_type": "markdown",
   "metadata": {},
   "source": [
    "### Missing Data: Participant Characteristics"
   ]
  },
  {
   "cell_type": "code",
   "execution_count": null,
   "metadata": {},
   "outputs": [],
   "source": []
  },
  {
   "cell_type": "code",
   "execution_count": 10,
   "metadata": {},
   "outputs": [
    {
     "name": "stdout",
     "output_type": "stream",
     "text": [
      "                                  Missing Proportion\n",
      "Job_Seeker_ID                                   0.00\n",
      "date_of_birth                                   0.01\n",
      "nationality                                   100.00\n",
      "country_of_birth                                0.08\n",
      "education                                     100.00\n",
      "education_code                                100.00\n",
      "current_capacity_hours                          0.20\n",
      "gender                                          0.08\n",
      "interpreter_language                            0.08\n",
      "interpreter_language_code                      82.30\n",
      "funding_level_code                             35.66\n",
      "residential_address_lines                       0.08\n",
      "residential_address_suburb                      0.08\n",
      "residential_address_postcode                    0.08\n",
      "residential_address_state                       0.08\n",
      "indigenous_ind                                  0.08\n",
      "wage_subsidy_eligible                           4.22\n",
      "rate_type                                      13.98\n",
      "available_date                                 55.79\n",
      "status                                         13.98\n",
      "centrelink_outcome_code                        78.04\n",
      "allowance_started_on                            0.08\n",
      "allowance_type                                  1.17\n",
      "allowance_rate                                  0.18\n",
      "time_in_placement                              41.99\n",
      "time_in_stream                                  0.08\n",
      "time_in_program                                 0.08\n",
      "time_in_site                                    0.09\n",
      "time_in_provider                                0.08\n",
      "moderate_intellectual_disability                0.07\n",
      "disability_type_code                           39.88\n",
      "employment_benchmark                           39.88\n"
     ]
    }
   ],
   "source": [
    "# Calculate missing proportion for each column relative to other columns\n",
    "missing_proportion = df_merge.isna().sum() / len(df_merge) * 100\n",
    "\n",
    "# Create a new DataFrame with the missing proportion\n",
    "missing_df = pd.DataFrame({'Missing Proportion': missing_proportion.round(2)})\n",
    "\n",
    "# Display the new DataFrame\n",
    "print(missing_df)"
   ]
  }
 ],
 "metadata": {
  "kernelspec": {
   "display_name": "Python 3.10.11 64-bit (microsoft store)",
   "language": "python",
   "name": "python3"
  },
  "language_info": {
   "codemirror_mode": {
    "name": "ipython",
    "version": 3
   },
   "file_extension": ".py",
   "mimetype": "text/x-python",
   "name": "python",
   "nbconvert_exporter": "python",
   "pygments_lexer": "ipython3",
   "version": "3.10.11"
  },
  "orig_nbformat": 4,
  "vscode": {
   "interpreter": {
    "hash": "0536884df65f5e39992ad2e5a4490020c7eea9ac64ea16b2fd494381cba4ac7e"
   }
  }
 },
 "nbformat": 4,
 "nbformat_minor": 2
}
